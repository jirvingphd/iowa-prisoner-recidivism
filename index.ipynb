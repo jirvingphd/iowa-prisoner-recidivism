{
 "cells": [
  {
   "cell_type": "markdown",
   "metadata": {},
   "source": [
    "# Data Science Project"
   ]
  },
  {
   "cell_type": "markdown",
   "metadata": {},
   "source": [
    "* Name: Author Name\n",
    "* Email:\n"
   ]
  },
  {
   "cell_type": "markdown",
   "metadata": {},
   "source": [
    "## TABLE OF CONTENTS "
   ]
  },
  {
   "cell_type": "markdown",
   "metadata": {},
   "source": [
    "\n",
    "- **[Introduction](#INTRODUCTION)<br>**\n",
    "- **[OBTAIN](#OBTAIN)**<br>\n",
    "- **[SCRUB](#SCRUB)**<br>\n",
    "- **[EXPLORE](#EXPLORE)**<br>\n",
    "- **[MODEL](#MODEL)**<br>\n",
    "- **[iNTERPRET](#iNTERPRET)**<br>\n",
    "- **[Conclusions/Recommendations](#CONCLUSIONS-&-RECOMMENDATIONS)<br>**\n",
    "___"
   ]
  },
  {
   "cell_type": "code",
   "execution_count": 1,
   "metadata": {},
   "outputs": [],
   "source": [
    "# from IPython import display as dp\n",
    "# with open('OSEMN.md') as f:\n",
    "#     dp.display(dp.Markdown(f.read()))"
   ]
  },
  {
   "cell_type": "markdown",
   "metadata": {},
   "source": [
    "# INTRODUCTION"
   ]
  },
  {
   "cell_type": "markdown",
   "metadata": {},
   "source": [
    "> Explain the point of your project and what question you are trying to answer with your modeling.\n",
    "\n"
   ]
  },
  {
   "cell_type": "markdown",
   "metadata": {},
   "source": [
    "# OBTAIN"
   ]
  },
  {
   "cell_type": "markdown",
   "metadata": {},
   "source": [
    "- Data is From Iowa Department of Corrections:\n",
    "    - https://data.iowa.gov/Correctional-System/3-Year-Recidivism-for-Offenders-Released-from-Pris/mw8r-vqy4\n",
    "    \n",
    "- Direct Export Download Link:\n",
    "    - https://data.iowa.gov/api/views/mw8r-vqy4/rows.csv?accessType=DOWNLOAD&api_foundry=true\n",
    "    \n",
    "    \n",
    "- IOWA DATA API [To Do]\n",
    "    - Documentation:\n",
    "        - https://dev.socrata.com/foundry/data.iowa.gov/mw8r-vqy4\n",
    "    - Iowa API url = https://data.iowa.gov/resource/mw8r-vqy4.csv"
   ]
  },
  {
   "cell_type": "code",
   "execution_count": 2,
   "metadata": {},
   "outputs": [
    {
     "name": "stdout",
     "output_type": "stream",
     "text": [
      "fsds v0.2.25 loaded.  Read the docs: https://fs-ds.readthedocs.io/en/latest/ \n"
     ]
    },
    {
     "data": {
      "text/html": [
       "<style  type=\"text/css\" >\n",
       "</style><table id=\"T_9c311598_f603_11ea_a7b2_acde48001122\" ><caption>Loaded Packages and Handles</caption><thead>    <tr>        <th class=\"col_heading level0 col0\" >Handle</th>        <th class=\"col_heading level0 col1\" >Package</th>        <th class=\"col_heading level0 col2\" >Description</th>    </tr></thead><tbody>\n",
       "                <tr>\n",
       "                                <td id=\"T_9c311598_f603_11ea_a7b2_acde48001122row0_col0\" class=\"data row0 col0\" >dp</td>\n",
       "                        <td id=\"T_9c311598_f603_11ea_a7b2_acde48001122row0_col1\" class=\"data row0 col1\" >IPython.display</td>\n",
       "                        <td id=\"T_9c311598_f603_11ea_a7b2_acde48001122row0_col2\" class=\"data row0 col2\" >Display modules with helpful display and clearing commands.</td>\n",
       "            </tr>\n",
       "            <tr>\n",
       "                                <td id=\"T_9c311598_f603_11ea_a7b2_acde48001122row1_col0\" class=\"data row1 col0\" >fs</td>\n",
       "                        <td id=\"T_9c311598_f603_11ea_a7b2_acde48001122row1_col1\" class=\"data row1 col1\" >fsds</td>\n",
       "                        <td id=\"T_9c311598_f603_11ea_a7b2_acde48001122row1_col2\" class=\"data row1 col2\" >Custom data science bootcamp student package</td>\n",
       "            </tr>\n",
       "            <tr>\n",
       "                                <td id=\"T_9c311598_f603_11ea_a7b2_acde48001122row2_col0\" class=\"data row2 col0\" >mpl</td>\n",
       "                        <td id=\"T_9c311598_f603_11ea_a7b2_acde48001122row2_col1\" class=\"data row2 col1\" >matplotlib</td>\n",
       "                        <td id=\"T_9c311598_f603_11ea_a7b2_acde48001122row2_col2\" class=\"data row2 col2\" >Matplotlib's base OOP module with formatting artists</td>\n",
       "            </tr>\n",
       "            <tr>\n",
       "                                <td id=\"T_9c311598_f603_11ea_a7b2_acde48001122row3_col0\" class=\"data row3 col0\" >plt</td>\n",
       "                        <td id=\"T_9c311598_f603_11ea_a7b2_acde48001122row3_col1\" class=\"data row3 col1\" >matplotlib.pyplot</td>\n",
       "                        <td id=\"T_9c311598_f603_11ea_a7b2_acde48001122row3_col2\" class=\"data row3 col2\" >Matplotlib's matlab-like plotting module</td>\n",
       "            </tr>\n",
       "            <tr>\n",
       "                                <td id=\"T_9c311598_f603_11ea_a7b2_acde48001122row4_col0\" class=\"data row4 col0\" >np</td>\n",
       "                        <td id=\"T_9c311598_f603_11ea_a7b2_acde48001122row4_col1\" class=\"data row4 col1\" >numpy</td>\n",
       "                        <td id=\"T_9c311598_f603_11ea_a7b2_acde48001122row4_col2\" class=\"data row4 col2\" >scientific computing with Python</td>\n",
       "            </tr>\n",
       "            <tr>\n",
       "                                <td id=\"T_9c311598_f603_11ea_a7b2_acde48001122row5_col0\" class=\"data row5 col0\" >pd</td>\n",
       "                        <td id=\"T_9c311598_f603_11ea_a7b2_acde48001122row5_col1\" class=\"data row5 col1\" >pandas</td>\n",
       "                        <td id=\"T_9c311598_f603_11ea_a7b2_acde48001122row5_col2\" class=\"data row5 col2\" >High performance data structures and tools</td>\n",
       "            </tr>\n",
       "            <tr>\n",
       "                                <td id=\"T_9c311598_f603_11ea_a7b2_acde48001122row6_col0\" class=\"data row6 col0\" >sns</td>\n",
       "                        <td id=\"T_9c311598_f603_11ea_a7b2_acde48001122row6_col1\" class=\"data row6 col1\" >seaborn</td>\n",
       "                        <td id=\"T_9c311598_f603_11ea_a7b2_acde48001122row6_col2\" class=\"data row6 col2\" >High-level data visualization library based on matplotlib</td>\n",
       "            </tr>\n",
       "    </tbody></table>"
      ],
      "text/plain": [
       "<pandas.io.formats.style.Styler at 0x7fa29e93b3c8>"
      ]
     },
     "metadata": {},
     "output_type": "display_data"
    },
    {
     "data": {
      "text/html": [
       "        <script type=\"text/javascript\">\n",
       "        window.PlotlyConfig = {MathJaxConfig: 'local'};\n",
       "        if (window.MathJax) {MathJax.Hub.Config({SVG: {font: \"STIX-Web\"}});}\n",
       "        if (typeof require !== 'undefined') {\n",
       "        require.undef(\"plotly\");\n",
       "        requirejs.config({\n",
       "            paths: {\n",
       "                'plotly': ['https://cdn.plot.ly/plotly-latest.min']\n",
       "            }\n",
       "        });\n",
       "        require(['plotly'], function(Plotly) {\n",
       "            window._Plotly = Plotly;\n",
       "        });\n",
       "        }\n",
       "        </script>\n",
       "        "
      ]
     },
     "metadata": {},
     "output_type": "display_data"
    },
    {
     "data": {
      "text/html": [
       "        <script type=\"text/javascript\">\n",
       "        window.PlotlyConfig = {MathJaxConfig: 'local'};\n",
       "        if (window.MathJax) {MathJax.Hub.Config({SVG: {font: \"STIX-Web\"}});}\n",
       "        if (typeof require !== 'undefined') {\n",
       "        require.undef(\"plotly\");\n",
       "        requirejs.config({\n",
       "            paths: {\n",
       "                'plotly': ['https://cdn.plot.ly/plotly-latest.min']\n",
       "            }\n",
       "        });\n",
       "        require(['plotly'], function(Plotly) {\n",
       "            window._Plotly = Plotly;\n",
       "        });\n",
       "        }\n",
       "        </script>\n",
       "        "
      ]
     },
     "metadata": {},
     "output_type": "display_data"
    },
    {
     "name": "stdout",
     "output_type": "stream",
     "text": [
      "[i] Pandas .iplot() method activated.\n"
     ]
    }
   ],
   "source": [
    "# !pip install -U fsds\n",
    "from fsds.imports import *"
   ]
  },
  {
   "cell_type": "code",
   "execution_count": 3,
   "metadata": {},
   "outputs": [
    {
     "data": {
      "text/html": [
       "<div>\n",
       "<style scoped>\n",
       "    .dataframe tbody tr th:only-of-type {\n",
       "        vertical-align: middle;\n",
       "    }\n",
       "\n",
       "    .dataframe tbody tr th {\n",
       "        vertical-align: top;\n",
       "    }\n",
       "\n",
       "    .dataframe thead th {\n",
       "        text-align: right;\n",
       "    }\n",
       "</style>\n",
       "<table border=\"1\" class=\"dataframe\">\n",
       "  <thead>\n",
       "    <tr style=\"text-align: right;\">\n",
       "      <th></th>\n",
       "      <th>Fiscal Year Released</th>\n",
       "      <th>Recidivism Reporting Year</th>\n",
       "      <th>Main Supervising District</th>\n",
       "      <th>Release Type</th>\n",
       "      <th>Race - Ethnicity</th>\n",
       "      <th>Age At Release</th>\n",
       "      <th>Sex</th>\n",
       "      <th>Offense Classification</th>\n",
       "      <th>Offense Type</th>\n",
       "      <th>Offense Subtype</th>\n",
       "      <th>Return to Prison</th>\n",
       "      <th>Days to Return</th>\n",
       "      <th>Recidivism Type</th>\n",
       "      <th>New Offense Classification</th>\n",
       "      <th>New Offense Type</th>\n",
       "      <th>New Offense Sub Type</th>\n",
       "      <th>Target Population</th>\n",
       "    </tr>\n",
       "  </thead>\n",
       "  <tbody>\n",
       "    <tr>\n",
       "      <th>0</th>\n",
       "      <td>2010</td>\n",
       "      <td>2013</td>\n",
       "      <td>7JD</td>\n",
       "      <td>Parole</td>\n",
       "      <td>Black - Non-Hispanic</td>\n",
       "      <td>25-34</td>\n",
       "      <td>Male</td>\n",
       "      <td>C Felony</td>\n",
       "      <td>Violent</td>\n",
       "      <td>Robbery</td>\n",
       "      <td>Yes</td>\n",
       "      <td>433.0</td>\n",
       "      <td>New</td>\n",
       "      <td>C Felony</td>\n",
       "      <td>Drug</td>\n",
       "      <td>Trafficking</td>\n",
       "      <td>Yes</td>\n",
       "    </tr>\n",
       "    <tr>\n",
       "      <th>1</th>\n",
       "      <td>2010</td>\n",
       "      <td>2013</td>\n",
       "      <td>NaN</td>\n",
       "      <td>Discharged – End of Sentence</td>\n",
       "      <td>White - Non-Hispanic</td>\n",
       "      <td>25-34</td>\n",
       "      <td>Male</td>\n",
       "      <td>D Felony</td>\n",
       "      <td>Property</td>\n",
       "      <td>Theft</td>\n",
       "      <td>Yes</td>\n",
       "      <td>453.0</td>\n",
       "      <td>Tech</td>\n",
       "      <td>NaN</td>\n",
       "      <td>NaN</td>\n",
       "      <td>NaN</td>\n",
       "      <td>No</td>\n",
       "    </tr>\n",
       "    <tr>\n",
       "      <th>2</th>\n",
       "      <td>2010</td>\n",
       "      <td>2013</td>\n",
       "      <td>5JD</td>\n",
       "      <td>Parole</td>\n",
       "      <td>White - Non-Hispanic</td>\n",
       "      <td>35-44</td>\n",
       "      <td>Male</td>\n",
       "      <td>B Felony</td>\n",
       "      <td>Drug</td>\n",
       "      <td>Trafficking</td>\n",
       "      <td>Yes</td>\n",
       "      <td>832.0</td>\n",
       "      <td>Tech</td>\n",
       "      <td>NaN</td>\n",
       "      <td>NaN</td>\n",
       "      <td>NaN</td>\n",
       "      <td>Yes</td>\n",
       "    </tr>\n",
       "    <tr>\n",
       "      <th>3</th>\n",
       "      <td>2010</td>\n",
       "      <td>2013</td>\n",
       "      <td>6JD</td>\n",
       "      <td>Parole</td>\n",
       "      <td>White - Non-Hispanic</td>\n",
       "      <td>25-34</td>\n",
       "      <td>Male</td>\n",
       "      <td>B Felony</td>\n",
       "      <td>Other</td>\n",
       "      <td>Other Criminal</td>\n",
       "      <td>No</td>\n",
       "      <td>NaN</td>\n",
       "      <td>No Recidivism</td>\n",
       "      <td>NaN</td>\n",
       "      <td>NaN</td>\n",
       "      <td>NaN</td>\n",
       "      <td>Yes</td>\n",
       "    </tr>\n",
       "    <tr>\n",
       "      <th>4</th>\n",
       "      <td>2010</td>\n",
       "      <td>2013</td>\n",
       "      <td>NaN</td>\n",
       "      <td>Discharged – End of Sentence</td>\n",
       "      <td>Black - Non-Hispanic</td>\n",
       "      <td>35-44</td>\n",
       "      <td>Male</td>\n",
       "      <td>D Felony</td>\n",
       "      <td>Violent</td>\n",
       "      <td>Assault</td>\n",
       "      <td>Yes</td>\n",
       "      <td>116.0</td>\n",
       "      <td>Tech</td>\n",
       "      <td>NaN</td>\n",
       "      <td>NaN</td>\n",
       "      <td>NaN</td>\n",
       "      <td>No</td>\n",
       "    </tr>\n",
       "    <tr>\n",
       "      <th>...</th>\n",
       "      <td>...</td>\n",
       "      <td>...</td>\n",
       "      <td>...</td>\n",
       "      <td>...</td>\n",
       "      <td>...</td>\n",
       "      <td>...</td>\n",
       "      <td>...</td>\n",
       "      <td>...</td>\n",
       "      <td>...</td>\n",
       "      <td>...</td>\n",
       "      <td>...</td>\n",
       "      <td>...</td>\n",
       "      <td>...</td>\n",
       "      <td>...</td>\n",
       "      <td>...</td>\n",
       "      <td>...</td>\n",
       "      <td>...</td>\n",
       "    </tr>\n",
       "    <tr>\n",
       "      <th>26015</th>\n",
       "      <td>2015</td>\n",
       "      <td>2018</td>\n",
       "      <td>NaN</td>\n",
       "      <td>Paroled to Detainer - INS</td>\n",
       "      <td>White - Hispanic</td>\n",
       "      <td>Under 25</td>\n",
       "      <td>Male</td>\n",
       "      <td>C Felony</td>\n",
       "      <td>Violent</td>\n",
       "      <td>Assault</td>\n",
       "      <td>No</td>\n",
       "      <td>NaN</td>\n",
       "      <td>No Recidivism</td>\n",
       "      <td>NaN</td>\n",
       "      <td>NaN</td>\n",
       "      <td>NaN</td>\n",
       "      <td>Yes</td>\n",
       "    </tr>\n",
       "    <tr>\n",
       "      <th>26016</th>\n",
       "      <td>2015</td>\n",
       "      <td>2018</td>\n",
       "      <td>6JD</td>\n",
       "      <td>Released to Special Sentence</td>\n",
       "      <td>White - Non-Hispanic</td>\n",
       "      <td>35-44</td>\n",
       "      <td>Male</td>\n",
       "      <td>C Felony</td>\n",
       "      <td>Violent</td>\n",
       "      <td>Sex</td>\n",
       "      <td>No</td>\n",
       "      <td>NaN</td>\n",
       "      <td>No Recidivism</td>\n",
       "      <td>NaN</td>\n",
       "      <td>NaN</td>\n",
       "      <td>NaN</td>\n",
       "      <td>No</td>\n",
       "    </tr>\n",
       "    <tr>\n",
       "      <th>26017</th>\n",
       "      <td>2015</td>\n",
       "      <td>2018</td>\n",
       "      <td>5JD</td>\n",
       "      <td>Parole Granted</td>\n",
       "      <td>White - Non-Hispanic</td>\n",
       "      <td>25-34</td>\n",
       "      <td>Female</td>\n",
       "      <td>Aggravated Misdemeanor</td>\n",
       "      <td>Public Order</td>\n",
       "      <td>Traffic</td>\n",
       "      <td>No</td>\n",
       "      <td>NaN</td>\n",
       "      <td>No Recidivism</td>\n",
       "      <td>NaN</td>\n",
       "      <td>NaN</td>\n",
       "      <td>NaN</td>\n",
       "      <td>No</td>\n",
       "    </tr>\n",
       "    <tr>\n",
       "      <th>26018</th>\n",
       "      <td>2015</td>\n",
       "      <td>2018</td>\n",
       "      <td>5JD</td>\n",
       "      <td>Paroled w/Immediate Discharge</td>\n",
       "      <td>White - Non-Hispanic</td>\n",
       "      <td>25-34</td>\n",
       "      <td>Male</td>\n",
       "      <td>D Felony</td>\n",
       "      <td>Property</td>\n",
       "      <td>Theft</td>\n",
       "      <td>No</td>\n",
       "      <td>NaN</td>\n",
       "      <td>No Recidivism</td>\n",
       "      <td>NaN</td>\n",
       "      <td>NaN</td>\n",
       "      <td>NaN</td>\n",
       "      <td>Yes</td>\n",
       "    </tr>\n",
       "    <tr>\n",
       "      <th>26019</th>\n",
       "      <td>2015</td>\n",
       "      <td>2018</td>\n",
       "      <td>NaN</td>\n",
       "      <td>Paroled to Detainer - Out of State</td>\n",
       "      <td>White - Non-Hispanic</td>\n",
       "      <td>35-44</td>\n",
       "      <td>Male</td>\n",
       "      <td>D Felony</td>\n",
       "      <td>Violent</td>\n",
       "      <td>Murder/Manslaughter</td>\n",
       "      <td>Yes</td>\n",
       "      <td>369.0</td>\n",
       "      <td>Tech</td>\n",
       "      <td>D Felony</td>\n",
       "      <td>Violent</td>\n",
       "      <td>Murder/Manslaughter</td>\n",
       "      <td>Yes</td>\n",
       "    </tr>\n",
       "  </tbody>\n",
       "</table>\n",
       "<p>26020 rows × 17 columns</p>\n",
       "</div>"
      ],
      "text/plain": [
       "       Fiscal Year Released  Recidivism Reporting Year  \\\n",
       "0                      2010                       2013   \n",
       "1                      2010                       2013   \n",
       "2                      2010                       2013   \n",
       "3                      2010                       2013   \n",
       "4                      2010                       2013   \n",
       "...                     ...                        ...   \n",
       "26015                  2015                       2018   \n",
       "26016                  2015                       2018   \n",
       "26017                  2015                       2018   \n",
       "26018                  2015                       2018   \n",
       "26019                  2015                       2018   \n",
       "\n",
       "      Main Supervising District                        Release Type  \\\n",
       "0                           7JD                              Parole   \n",
       "1                           NaN        Discharged – End of Sentence   \n",
       "2                           5JD                              Parole   \n",
       "3                           6JD                              Parole   \n",
       "4                           NaN        Discharged – End of Sentence   \n",
       "...                         ...                                 ...   \n",
       "26015                       NaN           Paroled to Detainer - INS   \n",
       "26016                       6JD        Released to Special Sentence   \n",
       "26017                       5JD                      Parole Granted   \n",
       "26018                       5JD       Paroled w/Immediate Discharge   \n",
       "26019                       NaN  Paroled to Detainer - Out of State   \n",
       "\n",
       "           Race - Ethnicity Age At Release      Sex  Offense Classification  \\\n",
       "0      Black - Non-Hispanic           25-34    Male                C Felony   \n",
       "1      White - Non-Hispanic           25-34    Male                D Felony   \n",
       "2      White - Non-Hispanic           35-44    Male                B Felony   \n",
       "3      White - Non-Hispanic           25-34    Male                B Felony   \n",
       "4      Black - Non-Hispanic           35-44    Male                D Felony   \n",
       "...                     ...             ...     ...                     ...   \n",
       "26015      White - Hispanic        Under 25    Male                C Felony   \n",
       "26016  White - Non-Hispanic           35-44    Male                C Felony   \n",
       "26017  White - Non-Hispanic           25-34  Female  Aggravated Misdemeanor   \n",
       "26018  White - Non-Hispanic           25-34    Male                D Felony   \n",
       "26019  White - Non-Hispanic           35-44    Male                D Felony   \n",
       "\n",
       "       Offense Type      Offense Subtype Return to Prison  Days to Return  \\\n",
       "0           Violent              Robbery              Yes           433.0   \n",
       "1          Property                Theft              Yes           453.0   \n",
       "2              Drug          Trafficking              Yes           832.0   \n",
       "3             Other       Other Criminal               No             NaN   \n",
       "4           Violent              Assault              Yes           116.0   \n",
       "...             ...                  ...              ...             ...   \n",
       "26015       Violent              Assault               No             NaN   \n",
       "26016       Violent                  Sex               No             NaN   \n",
       "26017  Public Order              Traffic               No             NaN   \n",
       "26018      Property                Theft               No             NaN   \n",
       "26019       Violent  Murder/Manslaughter              Yes           369.0   \n",
       "\n",
       "      Recidivism Type New Offense Classification New Offense Type  \\\n",
       "0                 New                   C Felony             Drug   \n",
       "1                Tech                        NaN              NaN   \n",
       "2                Tech                        NaN              NaN   \n",
       "3       No Recidivism                        NaN              NaN   \n",
       "4                Tech                        NaN              NaN   \n",
       "...               ...                        ...              ...   \n",
       "26015   No Recidivism                        NaN              NaN   \n",
       "26016   No Recidivism                        NaN              NaN   \n",
       "26017   No Recidivism                        NaN              NaN   \n",
       "26018   No Recidivism                        NaN              NaN   \n",
       "26019            Tech                   D Felony          Violent   \n",
       "\n",
       "      New Offense Sub Type Target Population  \n",
       "0              Trafficking               Yes  \n",
       "1                      NaN                No  \n",
       "2                      NaN               Yes  \n",
       "3                      NaN               Yes  \n",
       "4                      NaN                No  \n",
       "...                    ...               ...  \n",
       "26015                  NaN               Yes  \n",
       "26016                  NaN                No  \n",
       "26017                  NaN                No  \n",
       "26018                  NaN               Yes  \n",
       "26019  Murder/Manslaughter               Yes  \n",
       "\n",
       "[26020 rows x 17 columns]"
      ]
     },
     "execution_count": 3,
     "metadata": {},
     "output_type": "execute_result"
    }
   ],
   "source": [
    "## DOWNLOAD DATASET\n",
    "url = \"https://data.iowa.gov/api/views/mw8r-vqy4/rows.csv?accessType=DOWNLOAD&api_foundry=true\"\n",
    "df = pd.read_csv(url) \n",
    "df"
   ]
  },
  {
   "cell_type": "markdown",
   "metadata": {},
   "source": [
    "### Notes:"
   ]
  },
  {
   "cell_type": "markdown",
   "metadata": {},
   "source": [
    "- Target = `Return to Prison`\n",
    "\n",
    "**Columns to remove:**\n",
    "- Any columns that contain information about the new crime committed by recidivists.\n",
    "    - New Offense Classification\n",
    "    - New Offense Type \n",
    "    - New Offense Sub Type \n",
    "- Recidivism Reporting Year (only care about Year Released)"
   ]
  },
  {
   "cell_type": "code",
   "execution_count": 4,
   "metadata": {},
   "outputs": [
    {
     "name": "stdout",
     "output_type": "stream",
     "text": [
      "<class 'pandas.core.frame.DataFrame'>\n",
      "RangeIndex: 26020 entries, 0 to 26019\n",
      "Data columns (total 17 columns):\n",
      " #   Column                      Non-Null Count  Dtype  \n",
      "---  ------                      --------------  -----  \n",
      " 0   Fiscal Year Released        26020 non-null  int64  \n",
      " 1   Recidivism Reporting Year   26020 non-null  int64  \n",
      " 2   Main Supervising District   16439 non-null  object \n",
      " 3   Release Type                24258 non-null  object \n",
      " 4   Race - Ethnicity            25990 non-null  object \n",
      " 5   Age At Release              26017 non-null  object \n",
      " 6   Sex                         26017 non-null  object \n",
      " 7   Offense Classification      26020 non-null  object \n",
      " 8   Offense Type                26020 non-null  object \n",
      " 9   Offense Subtype             26020 non-null  object \n",
      " 10  Return to Prison            26020 non-null  object \n",
      " 11  Days to Return              8681 non-null   float64\n",
      " 12  Recidivism Type             26020 non-null  object \n",
      " 13  New Offense Classification  6718 non-null   object \n",
      " 14  New Offense Type            6718 non-null   object \n",
      " 15  New Offense Sub Type        6699 non-null   object \n",
      " 16  Target Population           26020 non-null  object \n",
      "dtypes: float64(1), int64(2), object(14)\n",
      "memory usage: 3.4+ MB\n"
     ]
    }
   ],
   "source": [
    "df.info()"
   ]
  },
  {
   "cell_type": "code",
   "execution_count": 5,
   "metadata": {},
   "outputs": [
    {
     "data": {
      "text/plain": [
       "['New Offense Classification',\n",
       " 'New Offense Type',\n",
       " 'New Offense Sub Type',\n",
       " 'Fiscal Year Released',\n",
       " 'Recidivism Reporting Year',\n",
       " 'Days to Return',\n",
       " 'Recidivism Type']"
      ]
     },
     "execution_count": 5,
     "metadata": {},
     "output_type": "execute_result"
    }
   ],
   "source": [
    "drop_cols = [col for col in df.columns if 'New' in col]\n",
    "drop_cols.extend([col for col in df.columns if 'Year' in col])#('Recidivism Reporting Year')\n",
    "drop_cols.append('Days to Return')\n",
    "drop_cols.append('Recidivism Type')\n",
    "drop_cols"
   ]
  },
  {
   "cell_type": "code",
   "execution_count": 6,
   "metadata": {},
   "outputs": [
    {
     "name": "stdout",
     "output_type": "stream",
     "text": [
      "<class 'pandas.core.frame.DataFrame'>\n",
      "RangeIndex: 26020 entries, 0 to 26019\n",
      "Data columns (total 10 columns):\n",
      " #   Column                     Non-Null Count  Dtype \n",
      "---  ------                     --------------  ----- \n",
      " 0   Main Supervising District  16439 non-null  object\n",
      " 1   Release Type               24258 non-null  object\n",
      " 2   Race - Ethnicity           25990 non-null  object\n",
      " 3   Age At Release             26017 non-null  object\n",
      " 4   Sex                        26017 non-null  object\n",
      " 5   Offense Classification     26020 non-null  object\n",
      " 6   Offense Type               26020 non-null  object\n",
      " 7   Offense Subtype            26020 non-null  object\n",
      " 8   Return to Prison           26020 non-null  object\n",
      " 9   Target Population          26020 non-null  object\n",
      "dtypes: object(10)\n",
      "memory usage: 2.0+ MB\n"
     ]
    }
   ],
   "source": [
    "df.drop(columns=drop_cols,inplace=True)\n",
    "df.info()"
   ]
  },
  {
   "cell_type": "code",
   "execution_count": 7,
   "metadata": {},
   "outputs": [
    {
     "name": "stdout",
     "output_type": "stream",
     "text": [
      "<class 'pandas.core.frame.DataFrame'>\n",
      "RangeIndex: 26020 entries, 0 to 26019\n",
      "Data columns (total 10 columns):\n",
      " #   Column                     Non-Null Count  Dtype \n",
      "---  ------                     --------------  ----- \n",
      " 0   Main Supervising District  16439 non-null  object\n",
      " 1   Release Type               24258 non-null  object\n",
      " 2   Race - Ethnicity           25990 non-null  object\n",
      " 3   Age At Release             26017 non-null  object\n",
      " 4   Sex                        26017 non-null  object\n",
      " 5   Offense Classification     26020 non-null  object\n",
      " 6   Offense Type               26020 non-null  object\n",
      " 7   Offense Subtype            26020 non-null  object\n",
      " 8   Return to Prison           26020 non-null  object\n",
      " 9   Target Population          26020 non-null  object\n",
      "dtypes: object(10)\n",
      "memory usage: 2.0+ MB\n"
     ]
    }
   ],
   "source": [
    "df.info()"
   ]
  },
  {
   "cell_type": "code",
   "execution_count": null,
   "metadata": {},
   "outputs": [],
   "source": []
  },
  {
   "cell_type": "markdown",
   "metadata": {},
   "source": [
    "# SCRUB"
   ]
  },
  {
   "cell_type": "code",
   "execution_count": 8,
   "metadata": {},
   "outputs": [
    {
     "data": {
      "text/plain": [
       "<AxesSubplot:>"
      ]
     },
     "execution_count": 8,
     "metadata": {},
     "output_type": "execute_result"
    },
    {
     "data": {
      "image/png": "[encoded data removed]",
      "text/plain": [
       "<Figure size 1800x720 with 2 Axes>"
      ]
     },
     "metadata": {
      "needs_background": "light"
     },
     "output_type": "display_data"
    }
   ],
   "source": [
    "import missingno as ms\n",
    "ms.matrix(df)"
   ]
  },
  {
   "cell_type": "code",
   "execution_count": 9,
   "metadata": {},
   "outputs": [
    {
     "data": {
      "text/plain": [
       "Main Supervising District    0.368217\n",
       "Release Type                 0.067717\n",
       "Race - Ethnicity             0.001153\n",
       "Age At Release               0.000115\n",
       "Sex                          0.000115\n",
       "dtype: float64"
      ]
     },
     "execution_count": 9,
     "metadata": {},
     "output_type": "execute_result"
    }
   ],
   "source": [
    "nulls= df.isna().sum()\n",
    "nulls[nulls > 0] / len(df)"
   ]
  },
  {
   "cell_type": "markdown",
   "metadata": {},
   "source": [
    "# EXPLORE"
   ]
  },
  {
   "cell_type": "code",
   "execution_count": 10,
   "metadata": {},
   "outputs": [],
   "source": [
    "sns.set(style=\"darkgrid\")"
   ]
  },
  {
   "cell_type": "code",
   "execution_count": 11,
   "metadata": {},
   "outputs": [],
   "source": [
    "def check_counts(df,col,normalize=True):\n",
    "    \"\"\"Helper function to display value counts (including NaN)\"\"\"\n",
    "    print(f\"There are {df[col].nunique()} unique values in {col}\")\n",
    "    display(df[col].value_counts(normalize=normalize,dropna=False))\n",
    "    "
   ]
  },
  {
   "cell_type": "code",
   "execution_count": 12,
   "metadata": {},
   "outputs": [],
   "source": [
    "def plot_values(df, col,fill_val= \"NaN\"):\n",
    "    \"\"\"Plot a seaborn catplot of the categories in col.\"\"\"\n",
    "    data = df[[col]].fillna(fill_val).copy()\n",
    "    counts = data[col].value_counts(ascending=False,dropna=False)\n",
    "#     display(counts)\n",
    "    \n",
    "    ax = sns.countplot(data=data,y=col,\n",
    "                  order=counts.index)\n",
    "    ax.set(title=f\"Value Counts for {col}\")\n",
    "    plt.show()"
   ]
  },
  {
   "cell_type": "code",
   "execution_count": 13,
   "metadata": {},
   "outputs": [],
   "source": [
    "def check_column(df, col,normalize=True,fill_val= \"NaN\"):\n",
    "    \"\"\"Combined column inspection function.\"\"\"\n",
    "    plot_values(df,col,fill_val=fill_val)\n",
    "    check_counts(df,col,normalize=normalize)"
   ]
  },
  {
   "cell_type": "code",
   "execution_count": 14,
   "metadata": {},
   "outputs": [
    {
     "data": {
      "image/png": "[encoded data removed]",
      "text/plain": [
       "<Figure size 432x288 with 1 Axes>"
      ]
     },
     "metadata": {},
     "output_type": "display_data"
    },
    {
     "name": "stdout",
     "output_type": "stream",
     "text": [
      "There are 12 unique values in Release Type\n"
     ]
    },
    {
     "data": {
      "text/plain": [
       "Parole                                 0.377018\n",
       "Parole Granted                         0.214335\n",
       "Discharged – End of Sentence           0.193659\n",
       "Discharged - Expiration of Sentence    0.089739\n",
       "NaN                                    0.067717\n",
       "Released to Special Sentence           0.015411\n",
       "Special Sentence                       0.013336\n",
       "Paroled w/Immediate Discharge          0.012836\n",
       "Paroled to Detainer - Out of State     0.005265\n",
       "Paroled to Detainer - INS              0.005150\n",
       "Paroled to Detainer - U.S. Marshall    0.002959\n",
       "Paroled to Detainer - Iowa             0.002537\n",
       "Interstate Compact Parole              0.000038\n",
       "Name: Release Type, dtype: float64"
      ]
     },
     "metadata": {},
     "output_type": "display_data"
    }
   ],
   "source": [
    "check_column(df,'Release Type')"
   ]
  },
  {
   "cell_type": "code",
   "execution_count": 15,
   "metadata": {},
   "outputs": [
    {
     "data": {
      "text/plain": [
       "Index(['Main Supervising District', 'Release Type', 'Race - Ethnicity',\n",
       "       'Age At Release ', 'Sex', 'Offense Classification', 'Offense Type',\n",
       "       'Offense Subtype', 'Return to Prison', 'Target Population'],\n",
       "      dtype='object')"
      ]
     },
     "execution_count": 15,
     "metadata": {},
     "output_type": "execute_result"
    }
   ],
   "source": [
    "## Get list of cat cosl \n",
    "cat_cols = df.select_dtypes('object').columns\n",
    "cat_cols"
   ]
  },
  {
   "cell_type": "code",
   "execution_count": 16,
   "metadata": {
    "scrolled": false
   },
   "outputs": [
    {
     "data": {
      "image/png": "[encoded data removed]",
      "text/plain": [
       "<Figure size 432x288 with 1 Axes>"
      ]
     },
     "metadata": {},
     "output_type": "display_data"
    },
    {
     "name": "stdout",
     "output_type": "stream",
     "text": [
      "There are 10 unique values in Main Supervising District\n"
     ]
    },
    {
     "data": {
      "text/plain": [
       "NaN                   0.368217\n",
       "5JD                   0.191468\n",
       "1JD                   0.107110\n",
       "2JD                   0.076403\n",
       "8JD                   0.059800\n",
       "7JD                   0.058186\n",
       "3JD                   0.045657\n",
       "6JD                   0.042198\n",
       "4JD                   0.025634\n",
       "ISC                   0.013451\n",
       "Interstate Compact    0.011875\n",
       "Name: Main Supervising District, dtype: float64"
      ]
     },
     "metadata": {},
     "output_type": "display_data"
    },
    {
     "data": {
      "text/plain": [
       "None"
      ]
     },
     "metadata": {},
     "output_type": "display_data"
    },
    {
     "name": "stdout",
     "output_type": "stream",
     "text": [
      "------------------------------------------------------------------------------------------\n"
     ]
    },
    {
     "data": {
      "image/png": "[encoded data removed]",
      "text/plain": [
       "<Figure size 432x288 with 1 Axes>"
      ]
     },
     "metadata": {},
     "output_type": "display_data"
    },
    {
     "name": "stdout",
     "output_type": "stream",
     "text": [
      "There are 12 unique values in Release Type\n"
     ]
    },
    {
     "data": {
      "text/plain": [
       "Parole                                 0.377018\n",
       "Parole Granted                         0.214335\n",
       "Discharged – End of Sentence           0.193659\n",
       "Discharged - Expiration of Sentence    0.089739\n",
       "NaN                                    0.067717\n",
       "Released to Special Sentence           0.015411\n",
       "Special Sentence                       0.013336\n",
       "Paroled w/Immediate Discharge          0.012836\n",
       "Paroled to Detainer - Out of State     0.005265\n",
       "Paroled to Detainer - INS              0.005150\n",
       "Paroled to Detainer - U.S. Marshall    0.002959\n",
       "Paroled to Detainer - Iowa             0.002537\n",
       "Interstate Compact Parole              0.000038\n",
       "Name: Release Type, dtype: float64"
      ]
     },
     "metadata": {},
     "output_type": "display_data"
    },
    {
     "data": {
      "text/plain": [
       "None"
      ]
     },
     "metadata": {},
     "output_type": "display_data"
    },
    {
     "name": "stdout",
     "output_type": "stream",
     "text": [
      "------------------------------------------------------------------------------------------\n"
     ]
    },
    {
     "data": {
      "image/png": "[encoded data removed]",
      "text/plain": [
       "<Figure size 432x288 with 1 Axes>"
      ]
     },
     "metadata": {},
     "output_type": "display_data"
    },
    {
     "name": "stdout",
     "output_type": "stream",
     "text": [
      "There are 11 unique values in Race - Ethnicity\n"
     ]
    },
    {
     "data": {
      "text/plain": [
       "White - Non-Hispanic                               0.675788\n",
       "Black - Non-Hispanic                               0.234781\n",
       "White - Hispanic                                   0.058493\n",
       "American Indian or Alaska Native - Non-Hispanic    0.019293\n",
       "Asian or Pacific Islander - Non-Hispanic           0.007379\n",
       "Black - Hispanic                                   0.001422\n",
       "NaN                                                0.001153\n",
       "American Indian or Alaska Native - Hispanic        0.000769\n",
       "White -                                            0.000461\n",
       "N/A -                                              0.000192\n",
       "Asian or Pacific Islander - Hispanic               0.000192\n",
       "Black -                                            0.000077\n",
       "Name: Race - Ethnicity, dtype: float64"
      ]
     },
     "metadata": {},
     "output_type": "display_data"
    },
    {
     "data": {
      "text/plain": [
       "None"
      ]
     },
     "metadata": {},
     "output_type": "display_data"
    },
    {
     "name": "stdout",
     "output_type": "stream",
     "text": [
      "------------------------------------------------------------------------------------------\n"
     ]
    },
    {
     "data": {
      "image/png": "[encoded data removed]",
      "text/plain": [
       "<Figure size 432x288 with 1 Axes>"
      ]
     },
     "metadata": {},
     "output_type": "display_data"
    },
    {
     "name": "stdout",
     "output_type": "stream",
     "text": [
      "There are 5 unique values in Age At Release \n"
     ]
    },
    {
     "data": {
      "text/plain": [
       "25-34           0.367179\n",
       "35-44           0.239162\n",
       "Under 25        0.176403\n",
       "45-54           0.167064\n",
       "55 and Older    0.050077\n",
       "NaN             0.000115\n",
       "Name: Age At Release , dtype: float64"
      ]
     },
     "metadata": {},
     "output_type": "display_data"
    },
    {
     "data": {
      "text/plain": [
       "None"
      ]
     },
     "metadata": {},
     "output_type": "display_data"
    },
    {
     "name": "stdout",
     "output_type": "stream",
     "text": [
      "------------------------------------------------------------------------------------------\n"
     ]
    },
    {
     "data": {
      "image/png": "[encoded data removed]",
      "text/plain": [
       "<Figure size 432x288 with 1 Axes>"
      ]
     },
     "metadata": {},
     "output_type": "display_data"
    },
    {
     "name": "stdout",
     "output_type": "stream",
     "text": [
      "There are 2 unique values in Sex\n"
     ]
    },
    {
     "data": {
      "text/plain": [
       "Male      0.871560\n",
       "Female    0.128324\n",
       "NaN       0.000115\n",
       "Name: Sex, dtype: float64"
      ]
     },
     "metadata": {},
     "output_type": "display_data"
    },
    {
     "data": {
      "text/plain": [
       "None"
      ]
     },
     "metadata": {},
     "output_type": "display_data"
    },
    {
     "name": "stdout",
     "output_type": "stream",
     "text": [
      "------------------------------------------------------------------------------------------\n"
     ]
    },
    {
     "data": {
      "image/png": "[encoded data removed]",
      "text/plain": [
       "<Figure size 432x288 with 1 Axes>"
      ]
     },
     "metadata": {},
     "output_type": "display_data"
    },
    {
     "name": "stdout",
     "output_type": "stream",
     "text": [
      "There are 15 unique values in Offense Classification\n"
     ]
    },
    {
     "data": {
      "text/plain": [
       "D Felony                                    0.403036\n",
       "C Felony                                    0.261453\n",
       "Aggravated Misdemeanor                      0.189470\n",
       "B Felony                                    0.067832\n",
       "Felony - Enhancement to Original Penalty    0.058916\n",
       "Felony - Enhanced                           0.008455\n",
       "Serious Misdemeanor                         0.005957\n",
       "Special Sentence 2005                       0.003766\n",
       "Felony - Mandatory Minimum                  0.000423\n",
       "Other Felony                                0.000231\n",
       "A Felony                                    0.000154\n",
       "Simple Misdemeanor                          0.000115\n",
       "Sexual Predator Community Supervision       0.000077\n",
       "Other Felony (Old Code)                     0.000077\n",
       "Other Misdemeanor                           0.000038\n",
       "Name: Offense Classification, dtype: float64"
      ]
     },
     "metadata": {},
     "output_type": "display_data"
    },
    {
     "data": {
      "text/plain": [
       "None"
      ]
     },
     "metadata": {},
     "output_type": "display_data"
    },
    {
     "name": "stdout",
     "output_type": "stream",
     "text": [
      "------------------------------------------------------------------------------------------\n"
     ]
    },
    {
     "data": {
      "image/png": "[encoded data removed]",
      "text/plain": [
       "<Figure size 432x288 with 1 Axes>"
      ]
     },
     "metadata": {},
     "output_type": "display_data"
    },
    {
     "name": "stdout",
     "output_type": "stream",
     "text": [
      "There are 5 unique values in Offense Type\n"
     ]
    },
    {
     "data": {
      "text/plain": [
       "Drug            0.304189\n",
       "Property        0.283282\n",
       "Violent         0.223520\n",
       "Public Order    0.138663\n",
       "Other           0.050346\n",
       "Name: Offense Type, dtype: float64"
      ]
     },
     "metadata": {},
     "output_type": "display_data"
    },
    {
     "data": {
      "text/plain": [
       "None"
      ]
     },
     "metadata": {},
     "output_type": "display_data"
    },
    {
     "name": "stdout",
     "output_type": "stream",
     "text": [
      "------------------------------------------------------------------------------------------\n"
     ]
    },
    {
     "data": {
      "image/png": "[encoded data removed]",
      "text/plain": [
       "<Figure size 432x288 with 1 Axes>"
      ]
     },
     "metadata": {},
     "output_type": "display_data"
    },
    {
     "name": "stdout",
     "output_type": "stream",
     "text": [
      "There are 26 unique values in Offense Subtype\n"
     ]
    },
    {
     "data": {
      "text/plain": [
       "Trafficking                        0.249500\n",
       "Assault                            0.122560\n",
       "Burglary                           0.113951\n",
       "Theft                              0.102998\n",
       "OWI                                0.068870\n",
       "Sex                                0.049078\n",
       "Forgery/Fraud                      0.046464\n",
       "Other Criminal                     0.045772\n",
       "Drug Possession                    0.043889\n",
       "Other Violent                      0.023098\n",
       "Traffic                            0.020138\n",
       "Murder/Manslaughter                0.015142\n",
       "Weapons                            0.014297\n",
       "Alcohol                            0.013682\n",
       "Vandalism                          0.013336\n",
       "Robbery                            0.012990\n",
       "Other Public Order                 0.011952\n",
       "Other Drug                         0.010799\n",
       "Arson                              0.006188\n",
       "Sex Offender Registry/Residency    0.005035\n",
       "Flight/Escape                      0.003228\n",
       "Kidnap                             0.002537\n",
       "Special Sentence Revocation        0.002421\n",
       "Prostitution/Pimping               0.001460\n",
       "Stolen Property                    0.000346\n",
       "Animals                            0.000269\n",
       "Name: Offense Subtype, dtype: float64"
      ]
     },
     "metadata": {},
     "output_type": "display_data"
    },
    {
     "data": {
      "text/plain": [
       "None"
      ]
     },
     "metadata": {},
     "output_type": "display_data"
    },
    {
     "name": "stdout",
     "output_type": "stream",
     "text": [
      "------------------------------------------------------------------------------------------\n"
     ]
    },
    {
     "data": {
      "image/png": "[encoded data removed]",
      "text/plain": [
       "<Figure size 432x288 with 1 Axes>"
      ]
     },
     "metadata": {},
     "output_type": "display_data"
    },
    {
     "name": "stdout",
     "output_type": "stream",
     "text": [
      "There are 2 unique values in Return to Prison\n"
     ]
    },
    {
     "data": {
      "text/plain": [
       "No     0.666372\n",
       "Yes    0.333628\n",
       "Name: Return to Prison, dtype: float64"
      ]
     },
     "metadata": {},
     "output_type": "display_data"
    },
    {
     "data": {
      "text/plain": [
       "None"
      ]
     },
     "metadata": {},
     "output_type": "display_data"
    },
    {
     "name": "stdout",
     "output_type": "stream",
     "text": [
      "------------------------------------------------------------------------------------------\n"
     ]
    },
    {
     "data": {
      "image/png": "[encoded data removed]",
      "text/plain": [
       "<Figure size 432x288 with 1 Axes>"
      ]
     },
     "metadata": {},
     "output_type": "display_data"
    },
    {
     "name": "stdout",
     "output_type": "stream",
     "text": [
      "There are 2 unique values in Target Population\n"
     ]
    },
    {
     "data": {
      "text/plain": [
       "Yes    0.548578\n",
       "No     0.451422\n",
       "Name: Target Population, dtype: float64"
      ]
     },
     "metadata": {},
     "output_type": "display_data"
    },
    {
     "data": {
      "text/plain": [
       "None"
      ]
     },
     "metadata": {},
     "output_type": "display_data"
    },
    {
     "name": "stdout",
     "output_type": "stream",
     "text": [
      "------------------------------------------------------------------------------------------\n"
     ]
    }
   ],
   "source": [
    "for col in cat_cols:\n",
    "    display(check_column(df,col))\n",
    "    print('---'*30)"
   ]
  },
  {
   "cell_type": "code",
   "execution_count": 17,
   "metadata": {},
   "outputs": [
    {
     "name": "stdout",
     "output_type": "stream",
     "text": [
      "Target already encoded.\n"
     ]
    },
    {
     "data": {
      "text/plain": [
       "No     17339\n",
       "Yes     8681\n",
       "Name: Return to Prison, dtype: int64"
      ]
     },
     "execution_count": 17,
     "metadata": {},
     "output_type": "execute_result"
    }
   ],
   "source": [
    "if \"Yes\" in df['Return to Prison']:\n",
    "    df['Return to Prison'] = df['Return to Prison'].map({'Yes':1,'No':0})\n",
    "else:\n",
    "    print('Target already encoded.')\n",
    "df['Return to Prison'].value_counts()"
   ]
  },
  {
   "cell_type": "markdown",
   "metadata": {},
   "source": [
    "# MODEL"
   ]
  },
  {
   "cell_type": "code",
   "execution_count": 18,
   "metadata": {},
   "outputs": [],
   "source": [
    "from sklearn.pipeline import Pipeline\n",
    "from sklearn.model_selection import train_test_split\n",
    "from sklearn.compose import ColumnTransformer\n",
    "from sklearn.preprocessing import StandardScaler, OneHotEncoder\n",
    "from sklearn.impute import SimpleImputer\n",
    "from sklearn import set_config\n",
    "set_config(display='text')"
   ]
  },
  {
   "cell_type": "code",
   "execution_count": 19,
   "metadata": {},
   "outputs": [
    {
     "data": {
      "text/plain": [
       "Index(['Main Supervising District', 'Release Type', 'Race - Ethnicity',\n",
       "       'Age At Release ', 'Sex', 'Offense Classification', 'Offense Type',\n",
       "       'Offense Subtype', 'Target Population'],\n",
       "      dtype='object')"
      ]
     },
     "execution_count": 19,
     "metadata": {},
     "output_type": "execute_result"
    }
   ],
   "source": [
    "target = 'Return to Prison'\n",
    "y = df[target].copy()\n",
    "X = df.drop(columns=target).copy()\n",
    "X.columns"
   ]
  },
  {
   "cell_type": "code",
   "execution_count": 20,
   "metadata": {},
   "outputs": [
    {
     "data": {
      "text/plain": [
       "Index(['Main Supervising District', 'Release Type', 'Race - Ethnicity',\n",
       "       'Age At Release ', 'Sex', 'Offense Classification', 'Offense Type',\n",
       "       'Offense Subtype', 'Target Population'],\n",
       "      dtype='object')"
      ]
     },
     "execution_count": 20,
     "metadata": {},
     "output_type": "execute_result"
    }
   ],
   "source": [
    "cat_cols = X.select_dtypes('object').columns\n",
    "cat_cols"
   ]
  },
  {
   "cell_type": "code",
   "execution_count": 21,
   "metadata": {},
   "outputs": [
    {
     "data": {
      "text/plain": [
       "Index([], dtype='object')"
      ]
     },
     "execution_count": 21,
     "metadata": {},
     "output_type": "execute_result"
    }
   ],
   "source": [
    "num_cols = X.select_dtypes('number').columns\n",
    "num_cols"
   ]
  },
  {
   "cell_type": "code",
   "execution_count": 22,
   "metadata": {},
   "outputs": [
    {
     "data": {
      "text/plain": [
       "Pipeline(steps=[('impute', SimpleImputer(strategy='median')),\n",
       "                ('scaler', StandardScaler())])"
      ]
     },
     "execution_count": 22,
     "metadata": {},
     "output_type": "execute_result"
    }
   ],
   "source": [
    "## Numeric Data Pipline\n",
    "num_pipe = Pipeline(steps=[\n",
    "    ('impute',SimpleImputer(strategy='median')),\n",
    "    ('scaler',StandardScaler())])\n",
    "num_pipe"
   ]
  },
  {
   "cell_type": "code",
   "execution_count": 23,
   "metadata": {},
   "outputs": [
    {
     "data": {
      "text/plain": [
       "Pipeline(steps=[('impute',\n",
       "                 SimpleImputer(fill_value='MISSING', strategy='constant')),\n",
       "                ('encoder',\n",
       "                 OneHotEncoder(handle_unknown='ignore', sparse=False))])"
      ]
     },
     "execution_count": 23,
     "metadata": {},
     "output_type": "execute_result"
    }
   ],
   "source": [
    "## Categorical Data Pipeline\n",
    "cat_pipe = Pipeline(steps=[\n",
    "    ('impute',SimpleImputer(strategy='constant',fill_value='MISSING')),\n",
    "    ('encoder',OneHotEncoder(sparse=False,handle_unknown='ignore'))])\n",
    "cat_pipe"
   ]
  },
  {
   "cell_type": "code",
   "execution_count": 24,
   "metadata": {},
   "outputs": [],
   "source": [
    "## Combined prepreocessing pipelien\n",
    "preprocessor = ColumnTransformer(transformers=[\n",
    "    ('num',num_pipe,num_cols),\n",
    "    ('cat',cat_pipe,cat_cols)])"
   ]
  },
  {
   "cell_type": "code",
   "execution_count": 25,
   "metadata": {},
   "outputs": [
    {
     "data": {
      "text/plain": [
       "No     0.666359\n",
       "Yes    0.333641\n",
       "Name: Return to Prison, dtype: float64"
      ]
     },
     "execution_count": 25,
     "metadata": {},
     "output_type": "execute_result"
    }
   ],
   "source": [
    "X_train, X_test, y_train, y_test = train_test_split(X,y,stratify=y)\n",
    "y_train.value_counts(1)"
   ]
  },
  {
   "cell_type": "code",
   "execution_count": null,
   "metadata": {},
   "outputs": [],
   "source": []
  },
  {
   "cell_type": "code",
   "execution_count": 26,
   "metadata": {},
   "outputs": [
    {
     "data": {
      "text/plain": [
       "array([[0., 0., 0., ..., 0., 0., 1.],\n",
       "       [0., 0., 0., ..., 0., 1., 0.],\n",
       "       [0., 0., 0., ..., 0., 0., 1.],\n",
       "       ...,\n",
       "       [0., 1., 0., ..., 0., 0., 1.],\n",
       "       [0., 0., 0., ..., 0., 1., 0.],\n",
       "       [0., 1., 0., ..., 0., 0., 1.]])"
      ]
     },
     "execution_count": 26,
     "metadata": {},
     "output_type": "execute_result"
    }
   ],
   "source": [
    "X_train_tf = preprocessor.fit_transform(X_train)\n",
    "X_test_tf = preprocessor.transform(X_test)\n",
    "X_train_tf"
   ]
  },
  {
   "cell_type": "code",
   "execution_count": 27,
   "metadata": {},
   "outputs": [],
   "source": [
    "def remake_df(X_train_tf, preprocessor,num_cols,cat_cols,\n",
    "              transformer_name='cat',step_name='encoder',index=None):\n",
    "    \"\"\"Remakes X data from a ColumnTransformer (preprocessor) pipeline.\"\"\"\n",
    "    tf = preprocessor.named_transformers_[transformer_name]\n",
    "    cat_features = tf.named_steps[step_name].get_feature_names(cat_cols)\n",
    "    feature_names = [*num_cols,*cat_features]\n",
    "    \n",
    "    if index is not None:\n",
    "        df = pd.DataFrame(X_train_tf, columns=feature_names ,index=index)\n",
    "    else:\n",
    "        df = pd.DataFrame(X_train_tf, columns=feature_names)\n",
    "    return df"
   ]
  },
  {
   "cell_type": "code",
   "execution_count": 28,
   "metadata": {},
   "outputs": [],
   "source": [
    "X_train_tf = remake_df(X_train_tf,preprocessor,num_cols,cat_cols,index=X_train.index)\n",
    "X_test_tf = remake_df(X_test_tf,preprocessor,num_cols,cat_cols,index=X_test.index)\n"
   ]
  },
  {
   "cell_type": "code",
   "execution_count": 29,
   "metadata": {},
   "outputs": [
    {
     "data": {
      "text/html": [
       "<div>\n",
       "<style scoped>\n",
       "    .dataframe tbody tr th:only-of-type {\n",
       "        vertical-align: middle;\n",
       "    }\n",
       "\n",
       "    .dataframe tbody tr th {\n",
       "        vertical-align: top;\n",
       "    }\n",
       "\n",
       "    .dataframe thead th {\n",
       "        text-align: right;\n",
       "    }\n",
       "</style>\n",
       "<table border=\"1\" class=\"dataframe\">\n",
       "  <thead>\n",
       "    <tr style=\"text-align: right;\">\n",
       "      <th></th>\n",
       "      <th>Main Supervising District_1JD</th>\n",
       "      <th>Main Supervising District_2JD</th>\n",
       "      <th>Main Supervising District_3JD</th>\n",
       "      <th>Main Supervising District_4JD</th>\n",
       "      <th>Main Supervising District_5JD</th>\n",
       "      <th>Main Supervising District_6JD</th>\n",
       "      <th>Main Supervising District_7JD</th>\n",
       "      <th>Main Supervising District_8JD</th>\n",
       "      <th>Main Supervising District_ISC</th>\n",
       "      <th>Main Supervising District_Interstate Compact</th>\n",
       "      <th>...</th>\n",
       "      <th>Offense Subtype_Sex Offender Registry/Residency</th>\n",
       "      <th>Offense Subtype_Special Sentence Revocation</th>\n",
       "      <th>Offense Subtype_Stolen Property</th>\n",
       "      <th>Offense Subtype_Theft</th>\n",
       "      <th>Offense Subtype_Traffic</th>\n",
       "      <th>Offense Subtype_Trafficking</th>\n",
       "      <th>Offense Subtype_Vandalism</th>\n",
       "      <th>Offense Subtype_Weapons</th>\n",
       "      <th>Target Population_No</th>\n",
       "      <th>Target Population_Yes</th>\n",
       "    </tr>\n",
       "  </thead>\n",
       "  <tbody>\n",
       "    <tr>\n",
       "      <th>9884</th>\n",
       "      <td>0.0</td>\n",
       "      <td>0.0</td>\n",
       "      <td>0.0</td>\n",
       "      <td>0.0</td>\n",
       "      <td>1.0</td>\n",
       "      <td>0.0</td>\n",
       "      <td>0.0</td>\n",
       "      <td>0.0</td>\n",
       "      <td>0.0</td>\n",
       "      <td>0.0</td>\n",
       "      <td>...</td>\n",
       "      <td>0.0</td>\n",
       "      <td>0.0</td>\n",
       "      <td>0.0</td>\n",
       "      <td>1.0</td>\n",
       "      <td>0.0</td>\n",
       "      <td>0.0</td>\n",
       "      <td>0.0</td>\n",
       "      <td>0.0</td>\n",
       "      <td>0.0</td>\n",
       "      <td>1.0</td>\n",
       "    </tr>\n",
       "    <tr>\n",
       "      <th>24621</th>\n",
       "      <td>0.0</td>\n",
       "      <td>0.0</td>\n",
       "      <td>0.0</td>\n",
       "      <td>0.0</td>\n",
       "      <td>0.0</td>\n",
       "      <td>1.0</td>\n",
       "      <td>0.0</td>\n",
       "      <td>0.0</td>\n",
       "      <td>0.0</td>\n",
       "      <td>0.0</td>\n",
       "      <td>...</td>\n",
       "      <td>0.0</td>\n",
       "      <td>0.0</td>\n",
       "      <td>0.0</td>\n",
       "      <td>0.0</td>\n",
       "      <td>0.0</td>\n",
       "      <td>0.0</td>\n",
       "      <td>0.0</td>\n",
       "      <td>0.0</td>\n",
       "      <td>0.0</td>\n",
       "      <td>1.0</td>\n",
       "    </tr>\n",
       "    <tr>\n",
       "      <th>16419</th>\n",
       "      <td>1.0</td>\n",
       "      <td>0.0</td>\n",
       "      <td>0.0</td>\n",
       "      <td>0.0</td>\n",
       "      <td>0.0</td>\n",
       "      <td>0.0</td>\n",
       "      <td>0.0</td>\n",
       "      <td>0.0</td>\n",
       "      <td>0.0</td>\n",
       "      <td>0.0</td>\n",
       "      <td>...</td>\n",
       "      <td>0.0</td>\n",
       "      <td>0.0</td>\n",
       "      <td>0.0</td>\n",
       "      <td>0.0</td>\n",
       "      <td>0.0</td>\n",
       "      <td>0.0</td>\n",
       "      <td>0.0</td>\n",
       "      <td>0.0</td>\n",
       "      <td>0.0</td>\n",
       "      <td>1.0</td>\n",
       "    </tr>\n",
       "    <tr>\n",
       "      <th>13416</th>\n",
       "      <td>0.0</td>\n",
       "      <td>0.0</td>\n",
       "      <td>0.0</td>\n",
       "      <td>0.0</td>\n",
       "      <td>0.0</td>\n",
       "      <td>0.0</td>\n",
       "      <td>1.0</td>\n",
       "      <td>0.0</td>\n",
       "      <td>0.0</td>\n",
       "      <td>0.0</td>\n",
       "      <td>...</td>\n",
       "      <td>0.0</td>\n",
       "      <td>0.0</td>\n",
       "      <td>0.0</td>\n",
       "      <td>0.0</td>\n",
       "      <td>0.0</td>\n",
       "      <td>0.0</td>\n",
       "      <td>0.0</td>\n",
       "      <td>0.0</td>\n",
       "      <td>0.0</td>\n",
       "      <td>1.0</td>\n",
       "    </tr>\n",
       "    <tr>\n",
       "      <th>8812</th>\n",
       "      <td>0.0</td>\n",
       "      <td>0.0</td>\n",
       "      <td>0.0</td>\n",
       "      <td>0.0</td>\n",
       "      <td>0.0</td>\n",
       "      <td>0.0</td>\n",
       "      <td>0.0</td>\n",
       "      <td>0.0</td>\n",
       "      <td>0.0</td>\n",
       "      <td>0.0</td>\n",
       "      <td>...</td>\n",
       "      <td>0.0</td>\n",
       "      <td>0.0</td>\n",
       "      <td>0.0</td>\n",
       "      <td>0.0</td>\n",
       "      <td>0.0</td>\n",
       "      <td>0.0</td>\n",
       "      <td>0.0</td>\n",
       "      <td>0.0</td>\n",
       "      <td>1.0</td>\n",
       "      <td>0.0</td>\n",
       "    </tr>\n",
       "    <tr>\n",
       "      <th>...</th>\n",
       "      <td>...</td>\n",
       "      <td>...</td>\n",
       "      <td>...</td>\n",
       "      <td>...</td>\n",
       "      <td>...</td>\n",
       "      <td>...</td>\n",
       "      <td>...</td>\n",
       "      <td>...</td>\n",
       "      <td>...</td>\n",
       "      <td>...</td>\n",
       "      <td>...</td>\n",
       "      <td>...</td>\n",
       "      <td>...</td>\n",
       "      <td>...</td>\n",
       "      <td>...</td>\n",
       "      <td>...</td>\n",
       "      <td>...</td>\n",
       "      <td>...</td>\n",
       "      <td>...</td>\n",
       "      <td>...</td>\n",
       "      <td>...</td>\n",
       "    </tr>\n",
       "    <tr>\n",
       "      <th>13961</th>\n",
       "      <td>0.0</td>\n",
       "      <td>0.0</td>\n",
       "      <td>0.0</td>\n",
       "      <td>0.0</td>\n",
       "      <td>0.0</td>\n",
       "      <td>0.0</td>\n",
       "      <td>0.0</td>\n",
       "      <td>0.0</td>\n",
       "      <td>0.0</td>\n",
       "      <td>0.0</td>\n",
       "      <td>...</td>\n",
       "      <td>0.0</td>\n",
       "      <td>0.0</td>\n",
       "      <td>0.0</td>\n",
       "      <td>0.0</td>\n",
       "      <td>0.0</td>\n",
       "      <td>0.0</td>\n",
       "      <td>0.0</td>\n",
       "      <td>0.0</td>\n",
       "      <td>1.0</td>\n",
       "      <td>0.0</td>\n",
       "    </tr>\n",
       "    <tr>\n",
       "      <th>20485</th>\n",
       "      <td>0.0</td>\n",
       "      <td>0.0</td>\n",
       "      <td>0.0</td>\n",
       "      <td>0.0</td>\n",
       "      <td>1.0</td>\n",
       "      <td>0.0</td>\n",
       "      <td>0.0</td>\n",
       "      <td>0.0</td>\n",
       "      <td>0.0</td>\n",
       "      <td>0.0</td>\n",
       "      <td>...</td>\n",
       "      <td>0.0</td>\n",
       "      <td>0.0</td>\n",
       "      <td>0.0</td>\n",
       "      <td>0.0</td>\n",
       "      <td>0.0</td>\n",
       "      <td>0.0</td>\n",
       "      <td>0.0</td>\n",
       "      <td>0.0</td>\n",
       "      <td>1.0</td>\n",
       "      <td>0.0</td>\n",
       "    </tr>\n",
       "    <tr>\n",
       "      <th>10925</th>\n",
       "      <td>0.0</td>\n",
       "      <td>0.0</td>\n",
       "      <td>0.0</td>\n",
       "      <td>0.0</td>\n",
       "      <td>0.0</td>\n",
       "      <td>1.0</td>\n",
       "      <td>0.0</td>\n",
       "      <td>0.0</td>\n",
       "      <td>0.0</td>\n",
       "      <td>0.0</td>\n",
       "      <td>...</td>\n",
       "      <td>0.0</td>\n",
       "      <td>0.0</td>\n",
       "      <td>0.0</td>\n",
       "      <td>0.0</td>\n",
       "      <td>0.0</td>\n",
       "      <td>0.0</td>\n",
       "      <td>0.0</td>\n",
       "      <td>0.0</td>\n",
       "      <td>0.0</td>\n",
       "      <td>1.0</td>\n",
       "    </tr>\n",
       "    <tr>\n",
       "      <th>4237</th>\n",
       "      <td>0.0</td>\n",
       "      <td>0.0</td>\n",
       "      <td>0.0</td>\n",
       "      <td>0.0</td>\n",
       "      <td>1.0</td>\n",
       "      <td>0.0</td>\n",
       "      <td>0.0</td>\n",
       "      <td>0.0</td>\n",
       "      <td>0.0</td>\n",
       "      <td>0.0</td>\n",
       "      <td>...</td>\n",
       "      <td>0.0</td>\n",
       "      <td>0.0</td>\n",
       "      <td>0.0</td>\n",
       "      <td>0.0</td>\n",
       "      <td>0.0</td>\n",
       "      <td>0.0</td>\n",
       "      <td>0.0</td>\n",
       "      <td>0.0</td>\n",
       "      <td>0.0</td>\n",
       "      <td>1.0</td>\n",
       "    </tr>\n",
       "    <tr>\n",
       "      <th>441</th>\n",
       "      <td>0.0</td>\n",
       "      <td>0.0</td>\n",
       "      <td>0.0</td>\n",
       "      <td>0.0</td>\n",
       "      <td>1.0</td>\n",
       "      <td>0.0</td>\n",
       "      <td>0.0</td>\n",
       "      <td>0.0</td>\n",
       "      <td>0.0</td>\n",
       "      <td>0.0</td>\n",
       "      <td>...</td>\n",
       "      <td>0.0</td>\n",
       "      <td>0.0</td>\n",
       "      <td>0.0</td>\n",
       "      <td>1.0</td>\n",
       "      <td>0.0</td>\n",
       "      <td>0.0</td>\n",
       "      <td>0.0</td>\n",
       "      <td>0.0</td>\n",
       "      <td>0.0</td>\n",
       "      <td>1.0</td>\n",
       "    </tr>\n",
       "  </tbody>\n",
       "</table>\n",
       "<p>6505 rows × 92 columns</p>\n",
       "</div>"
      ],
      "text/plain": [
       "       Main Supervising District_1JD  Main Supervising District_2JD  \\\n",
       "9884                             0.0                            0.0   \n",
       "24621                            0.0                            0.0   \n",
       "16419                            1.0                            0.0   \n",
       "13416                            0.0                            0.0   \n",
       "8812                             0.0                            0.0   \n",
       "...                              ...                            ...   \n",
       "13961                            0.0                            0.0   \n",
       "20485                            0.0                            0.0   \n",
       "10925                            0.0                            0.0   \n",
       "4237                             0.0                            0.0   \n",
       "441                              0.0                            0.0   \n",
       "\n",
       "       Main Supervising District_3JD  Main Supervising District_4JD  \\\n",
       "9884                             0.0                            0.0   \n",
       "24621                            0.0                            0.0   \n",
       "16419                            0.0                            0.0   \n",
       "13416                            0.0                            0.0   \n",
       "8812                             0.0                            0.0   \n",
       "...                              ...                            ...   \n",
       "13961                            0.0                            0.0   \n",
       "20485                            0.0                            0.0   \n",
       "10925                            0.0                            0.0   \n",
       "4237                             0.0                            0.0   \n",
       "441                              0.0                            0.0   \n",
       "\n",
       "       Main Supervising District_5JD  Main Supervising District_6JD  \\\n",
       "9884                             1.0                            0.0   \n",
       "24621                            0.0                            1.0   \n",
       "16419                            0.0                            0.0   \n",
       "13416                            0.0                            0.0   \n",
       "8812                             0.0                            0.0   \n",
       "...                              ...                            ...   \n",
       "13961                            0.0                            0.0   \n",
       "20485                            1.0                            0.0   \n",
       "10925                            0.0                            1.0   \n",
       "4237                             1.0                            0.0   \n",
       "441                              1.0                            0.0   \n",
       "\n",
       "       Main Supervising District_7JD  Main Supervising District_8JD  \\\n",
       "9884                             0.0                            0.0   \n",
       "24621                            0.0                            0.0   \n",
       "16419                            0.0                            0.0   \n",
       "13416                            1.0                            0.0   \n",
       "8812                             0.0                            0.0   \n",
       "...                              ...                            ...   \n",
       "13961                            0.0                            0.0   \n",
       "20485                            0.0                            0.0   \n",
       "10925                            0.0                            0.0   \n",
       "4237                             0.0                            0.0   \n",
       "441                              0.0                            0.0   \n",
       "\n",
       "       Main Supervising District_ISC  \\\n",
       "9884                             0.0   \n",
       "24621                            0.0   \n",
       "16419                            0.0   \n",
       "13416                            0.0   \n",
       "8812                             0.0   \n",
       "...                              ...   \n",
       "13961                            0.0   \n",
       "20485                            0.0   \n",
       "10925                            0.0   \n",
       "4237                             0.0   \n",
       "441                              0.0   \n",
       "\n",
       "       Main Supervising District_Interstate Compact  ...  \\\n",
       "9884                                            0.0  ...   \n",
       "24621                                           0.0  ...   \n",
       "16419                                           0.0  ...   \n",
       "13416                                           0.0  ...   \n",
       "8812                                            0.0  ...   \n",
       "...                                             ...  ...   \n",
       "13961                                           0.0  ...   \n",
       "20485                                           0.0  ...   \n",
       "10925                                           0.0  ...   \n",
       "4237                                            0.0  ...   \n",
       "441                                             0.0  ...   \n",
       "\n",
       "       Offense Subtype_Sex Offender Registry/Residency  \\\n",
       "9884                                               0.0   \n",
       "24621                                              0.0   \n",
       "16419                                              0.0   \n",
       "13416                                              0.0   \n",
       "8812                                               0.0   \n",
       "...                                                ...   \n",
       "13961                                              0.0   \n",
       "20485                                              0.0   \n",
       "10925                                              0.0   \n",
       "4237                                               0.0   \n",
       "441                                                0.0   \n",
       "\n",
       "       Offense Subtype_Special Sentence Revocation  \\\n",
       "9884                                           0.0   \n",
       "24621                                          0.0   \n",
       "16419                                          0.0   \n",
       "13416                                          0.0   \n",
       "8812                                           0.0   \n",
       "...                                            ...   \n",
       "13961                                          0.0   \n",
       "20485                                          0.0   \n",
       "10925                                          0.0   \n",
       "4237                                           0.0   \n",
       "441                                            0.0   \n",
       "\n",
       "       Offense Subtype_Stolen Property  Offense Subtype_Theft  \\\n",
       "9884                               0.0                    1.0   \n",
       "24621                              0.0                    0.0   \n",
       "16419                              0.0                    0.0   \n",
       "13416                              0.0                    0.0   \n",
       "8812                               0.0                    0.0   \n",
       "...                                ...                    ...   \n",
       "13961                              0.0                    0.0   \n",
       "20485                              0.0                    0.0   \n",
       "10925                              0.0                    0.0   \n",
       "4237                               0.0                    0.0   \n",
       "441                                0.0                    1.0   \n",
       "\n",
       "       Offense Subtype_Traffic  Offense Subtype_Trafficking  \\\n",
       "9884                       0.0                          0.0   \n",
       "24621                      0.0                          0.0   \n",
       "16419                      0.0                          0.0   \n",
       "13416                      0.0                          0.0   \n",
       "8812                       0.0                          0.0   \n",
       "...                        ...                          ...   \n",
       "13961                      0.0                          0.0   \n",
       "20485                      0.0                          0.0   \n",
       "10925                      0.0                          0.0   \n",
       "4237                       0.0                          0.0   \n",
       "441                        0.0                          0.0   \n",
       "\n",
       "       Offense Subtype_Vandalism  Offense Subtype_Weapons  \\\n",
       "9884                         0.0                      0.0   \n",
       "24621                        0.0                      0.0   \n",
       "16419                        0.0                      0.0   \n",
       "13416                        0.0                      0.0   \n",
       "8812                         0.0                      0.0   \n",
       "...                          ...                      ...   \n",
       "13961                        0.0                      0.0   \n",
       "20485                        0.0                      0.0   \n",
       "10925                        0.0                      0.0   \n",
       "4237                         0.0                      0.0   \n",
       "441                          0.0                      0.0   \n",
       "\n",
       "       Target Population_No  Target Population_Yes  \n",
       "9884                    0.0                    1.0  \n",
       "24621                   0.0                    1.0  \n",
       "16419                   0.0                    1.0  \n",
       "13416                   0.0                    1.0  \n",
       "8812                    1.0                    0.0  \n",
       "...                     ...                    ...  \n",
       "13961                   1.0                    0.0  \n",
       "20485                   1.0                    0.0  \n",
       "10925                   0.0                    1.0  \n",
       "4237                    0.0                    1.0  \n",
       "441                     0.0                    1.0  \n",
       "\n",
       "[6505 rows x 92 columns]"
      ]
     },
     "execution_count": 29,
     "metadata": {},
     "output_type": "execute_result"
    }
   ],
   "source": [
    "X_test_tf"
   ]
  },
  {
   "cell_type": "code",
   "execution_count": 30,
   "metadata": {},
   "outputs": [
    {
     "data": {
      "text/plain": [
       "RandomForestClassifier(class_weight='balanced')"
      ]
     },
     "execution_count": 30,
     "metadata": {},
     "output_type": "execute_result"
    }
   ],
   "source": [
    "from xgboost import XGBRFClassifier\n",
    "from sklearn.ensemble import RandomForestClassifier\n",
    "rf = RandomForestClassifier(class_weight='balanced')\n",
    "rf.fit(X_train_tf,y_train)"
   ]
  },
  {
   "cell_type": "code",
   "execution_count": 31,
   "metadata": {},
   "outputs": [],
   "source": [
    "from sklearn import metrics"
   ]
  },
  {
   "cell_type": "code",
   "execution_count": 32,
   "metadata": {},
   "outputs": [
    {
     "name": "stdout",
     "output_type": "stream",
     "text": [
      "              precision    recall  f1-score   support\n",
      "\n",
      "          No       0.72      0.69      0.70      4335\n",
      "         Yes       0.43      0.48      0.45      2170\n",
      "\n",
      "    accuracy                           0.62      6505\n",
      "   macro avg       0.58      0.58      0.58      6505\n",
      "weighted avg       0.63      0.62      0.62      6505\n",
      "\n"
     ]
    },
    {
     "data": {
      "text/plain": [
       "<sklearn.metrics._plot.confusion_matrix.ConfusionMatrixDisplay at 0x7fa2864a2a20>"
      ]
     },
     "execution_count": 32,
     "metadata": {},
     "output_type": "execute_result"
    },
    {
     "data": {
      "image/png": "[encoded data removed]",
      "text/plain": [
       "<Figure size 432x288 with 2 Axes>"
      ]
     },
     "metadata": {},
     "output_type": "display_data"
    }
   ],
   "source": [
    "\n",
    "y_hat_test = rf.predict(X_test_tf)\n",
    "print(metrics.classification_report(y_test, y_hat_test))\n",
    "metrics.plot_confusion_matrix(rf,X_test_tf,y_test,cmap='Blues',\n",
    "                             normalize='true')"
   ]
  },
  {
   "cell_type": "code",
   "execution_count": 33,
   "metadata": {},
   "outputs": [
    {
     "data": {
      "text/plain": [
       "Main Supervising District_MISSING                 0.045610\n",
       "Race - Ethnicity_White - Non-Hispanic             0.039174\n",
       "Race - Ethnicity_Black - Non-Hispanic             0.036861\n",
       "Age At Release _25-34                             0.035242\n",
       "Age At Release _35-44                             0.033545\n",
       "                                                    ...   \n",
       "Offense Classification_Simple Misdemeanor         0.000035\n",
       "Offense Classification_Other Misdemeanor          0.000018\n",
       "Age At Release _MISSING                           0.000005\n",
       "Sex_MISSING                                       0.000003\n",
       "Offense Classification_Other Felony (Old Code)    0.000002\n",
       "Length: 92, dtype: float64"
      ]
     },
     "execution_count": 33,
     "metadata": {},
     "output_type": "execute_result"
    }
   ],
   "source": [
    "importance = pd.Series(rf.feature_importances_,\n",
    "                       index=X_train_tf.columns).sort_values(ascending=False)\n",
    "importance"
   ]
  },
  {
   "cell_type": "markdown",
   "metadata": {},
   "source": [
    "# iNTERPRET"
   ]
  },
  {
   "cell_type": "code",
   "execution_count": null,
   "metadata": {},
   "outputs": [],
   "source": []
  },
  {
   "cell_type": "markdown",
   "metadata": {},
   "source": [
    "# CONCLUSIONS & RECOMMENDATIONS"
   ]
  },
  {
   "cell_type": "markdown",
   "metadata": {},
   "source": [
    "> Summarize your conclusions and bullet-point your list of recommendations, which are based on your modeling results."
   ]
  },
  {
   "cell_type": "markdown",
   "metadata": {},
   "source": [
    "# TO DO/FUTURE WORK"
   ]
  },
  {
   "cell_type": "markdown",
   "metadata": {},
   "source": [
    "- "
   ]
  },
  {
   "cell_type": "code",
   "execution_count": null,
   "metadata": {},
   "outputs": [],
   "source": []
  }
 ],
 "metadata": {
  "kernelspec": {
   "display_name": "learn-env",
   "language": "python",
   "name": "learn-env"
  },
  "language_info": {
   "codemirror_mode": {
    "name": "ipython",
    "version": 3
   },
   "file_extension": ".py",
   "mimetype": "text/x-python",
   "name": "python",
   "nbconvert_exporter": "python",
   "pygments_lexer": "ipython3",
   "version": "3.6.11"
  },
  "toc": {
   "base_numbering": 1,
   "nav_menu": {},
   "number_sections": false,
   "sideBar": true,
   "skip_h1_title": false,
   "title_cell": "Table of Contents",
   "title_sidebar": "Contents",
   "toc_cell": false,
   "toc_position": {},
   "toc_section_display": true,
   "toc_window_display": true
  },
  "varInspector": {
   "cols": {
    "lenName": 16,
    "lenType": 16,
    "lenVar": 40
   },
   "kernels_config": {
    "python": {
     "delete_cmd_postfix": "",
     "delete_cmd_prefix": "del ",
     "library": "var_list.py",
     "varRefreshCmd": "print(var_dic_list())"
    },
    "r": {
     "delete_cmd_postfix": ") ",
     "delete_cmd_prefix": "rm(",
     "library": "var_list.r",
     "varRefreshCmd": "cat(var_dic_list()) "
    }
   },
   "types_to_exclude": [
    "module",
    "function",
    "builtin_function_or_method",
    "instance",
    "_Feature"
   ],
   "window_display": false
  }
 },
 "nbformat": 4,
 "nbformat_minor": 2
}
